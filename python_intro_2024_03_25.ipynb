{
  "nbformat": 4,
  "nbformat_minor": 0,
  "metadata": {
    "colab": {
      "provenance": [],
      "include_colab_link": true
    },
    "kernelspec": {
      "name": "python3",
      "display_name": "Python 3"
    }
  },
  "cells": [
    {
      "cell_type": "markdown",
      "metadata": {
        "id": "view-in-github",
        "colab_type": "text"
      },
      "source": [
        "<a href=\"https://colab.research.google.com/github/francineyff/ocean-jornada-backend-fevereiro-2024/blob/main/python_intro_2024_03_25.ipynb\" target=\"_parent\"><img src=\"https://colab.research.google.com/assets/colab-badge.svg\" alt=\"Open In Colab\"/></a>"
      ]
    },
    {
      "cell_type": "markdown",
      "metadata": {
        "id": "s1YHdkKsLHv0"
      },
      "source": [
        "## Python: Conhecendo a Linguagem\n",
        "\n"
      ]
    },
    {
      "cell_type": "markdown",
      "metadata": {
        "id": "1gApdkqgLXKj"
      },
      "source": [
        "# O que é Programação?"
      ]
    },
    {
      "cell_type": "markdown",
      "metadata": {
        "id": "CO1A_FvGS1ta"
      },
      "source": [
        "## O que é um programa de computador?\n",
        "## O que é um algoritmo?"
      ]
    },
    {
      "cell_type": "markdown",
      "metadata": {
        "id": "DMgkyMTTL19Z"
      },
      "source": [
        "# Um pouco mais Sobre o Python"
      ]
    },
    {
      "cell_type": "markdown",
      "metadata": {
        "id": "tYa8OguAS87U"
      },
      "source": [
        "## O que programar? (aplicações)\n",
        "## Aonde programar? (ambientes)\n",
        "## Como instalar o interpretador?"
      ]
    },
    {
      "cell_type": "markdown",
      "metadata": {
        "id": "6TwoUJstMFLm"
      },
      "source": [
        "# A linguagem (\"Hello World\")"
      ]
    },
    {
      "cell_type": "code",
      "metadata": {
        "id": "C9WsLUJoT0bP",
        "colab": {
          "base_uri": "https://localhost:8080/"
        },
        "outputId": "635a9017-1e30-4162-9412-ca8d5a999e5c"
      },
      "source": [
        "print(\"Hello World!\")"
      ],
      "execution_count": null,
      "outputs": [
        {
          "output_type": "stream",
          "name": "stdout",
          "text": [
            "Hello World!\n"
          ]
        }
      ]
    },
    {
      "cell_type": "code",
      "source": [
        "10/3"
      ],
      "metadata": {
        "colab": {
          "base_uri": "https://localhost:8080/"
        },
        "id": "7ZVtonj7LbO8",
        "outputId": "30940a02-f1d7-4c0b-e525-86d706a44bf9"
      },
      "execution_count": null,
      "outputs": [
        {
          "output_type": "execute_result",
          "data": {
            "text/plain": [
              "3.3333333333333335"
            ]
          },
          "metadata": {},
          "execution_count": 6
        }
      ]
    },
    {
      "cell_type": "markdown",
      "metadata": {
        "id": "DZ7l7kimMJG3"
      },
      "source": [
        "#Tipos de Dados básicos"
      ]
    },
    {
      "cell_type": "code",
      "metadata": {
        "id": "30Z0YovCLGcO",
        "colab": {
          "base_uri": "https://localhost:8080/"
        },
        "outputId": "e1d08a89-68b3-477a-d1ba-ccf08e306c3f"
      },
      "source": [
        "print(type(-515151632149818)) # O tipo do número 2 é int (número inteiro)\"\n",
        "print(type(-21919819009.58181661520)) # O tipo do número 2.5 é float (número decimal)\n",
        "print(type(1.5+1.5j)) # O tipo do número 1 + 1j (j é o número imaginário) é complex\n",
        "print(type(\"texto\")) # Sequencia de caracteres para armazenar texto\n",
        "print(type(False)) # tipo booleano para Verdadeiro (True) e Falso (False)\n",
        "print(type(None)) # tipo"
      ],
      "execution_count": null,
      "outputs": [
        {
          "output_type": "stream",
          "name": "stdout",
          "text": [
            "<class 'int'>\n",
            "<class 'float'>\n",
            "<class 'complex'>\n",
            "<class 'str'>\n",
            "<class 'bool'>\n",
            "<class 'NoneType'>\n"
          ]
        }
      ]
    },
    {
      "cell_type": "code",
      "source": [
        "print(\"O termo 'termo' esta entre aspas\")"
      ],
      "metadata": {
        "id": "685IlLt6vAWm",
        "colab": {
          "base_uri": "https://localhost:8080/"
        },
        "outputId": "4bb8d9b5-4e78-4efe-a891-f148655d25da"
      },
      "execution_count": null,
      "outputs": [
        {
          "output_type": "stream",
          "name": "stdout",
          "text": [
            "O termo 'termo' esta entre aspas\n"
          ]
        }
      ]
    },
    {
      "cell_type": "markdown",
      "metadata": {
        "id": "aU6gFhrxM8TS"
      },
      "source": [
        "## Variáveis\n",
        "\n",
        "Uma variável não pode ter o nome comçado por números, eveitmem palavras-chave da linaguagem e caracateres especiais"
      ]
    },
    {
      "cell_type": "code",
      "source": [
        "# IMC = PESO/ALTURA²\n",
        "print(95/(1.9*1.9))"
      ],
      "metadata": {
        "colab": {
          "base_uri": "https://localhost:8080/"
        },
        "id": "t9DpxWunVTEy",
        "outputId": "12edd24c-490d-44e4-c1fa-3e486390b012"
      },
      "execution_count": null,
      "outputs": [
        {
          "output_type": "stream",
          "name": "stdout",
          "text": [
            "26.315789473684212\n"
          ]
        }
      ]
    },
    {
      "cell_type": "code",
      "metadata": {
        "id": "ChunySn1M-oz"
      },
      "source": [
        "# nome_da_variavel = valor\n",
        "altura_joao =  1.9\n",
        "texto = \"Hello world\"\n",
        "chovendo = True\n",
        "sabor_bolo = \"de Fubá\"\n"
      ],
      "execution_count": null,
      "outputs": []
    },
    {
      "cell_type": "code",
      "source": [
        "sabor_bolo"
      ],
      "metadata": {
        "colab": {
          "base_uri": "https://localhost:8080/"
        },
        "id": "37Uwi2L7XxrY",
        "outputId": "5dda544c-8146-44b8-a639-abb15a94e4c8"
      },
      "execution_count": null,
      "outputs": [
        {
          "output_type": "execute_result",
          "data": {
            "text/plain": [
              "17"
            ]
          },
          "metadata": {},
          "execution_count": 7
        }
      ]
    },
    {
      "cell_type": "code",
      "source": [
        "sabor_bolo = 5 + 4*3"
      ],
      "metadata": {
        "id": "733l9ikoX2qh"
      },
      "execution_count": null,
      "outputs": []
    },
    {
      "cell_type": "markdown",
      "metadata": {
        "id": "1NlSUBtMM_7H"
      },
      "source": [
        "## Operações básicas (e nem tão básicas)"
      ]
    },
    {
      "cell_type": "markdown",
      "metadata": {
        "id": "ZTpQVXKzNHtY"
      },
      "source": [
        "### Com dados numéricos"
      ]
    },
    {
      "cell_type": "code",
      "metadata": {
        "id": "-UCzQIB9NF-j",
        "colab": {
          "base_uri": "https://localhost:8080/"
        },
        "outputId": "424dc4fd-16fb-4cba-f3f6-43ad6635a127"
      },
      "source": [
        "print(1 + 2) # o '+' é a soma usual\n",
        "print(10.5 - 1.5) # o '-' é a subtração usual\n",
        "print(2 * -2) # o '*' é a multiplicação usual\n",
        "print(9 / 5) # o '/' é a divisão usual\n",
        "\n",
        "print(4 ** -0.5) # o '**' é a exponenciação\n",
        "print(11 // 5) # o '//' é o quociente da divisão inteira\n",
        "print(11 % 5) # o '%' é o resto da divisão inteiro"
      ],
      "execution_count": null,
      "outputs": [
        {
          "output_type": "stream",
          "name": "stdout",
          "text": [
            "3\n",
            "9.0\n",
            "-4\n",
            "1.8\n",
            "0.5\n",
            "2\n",
            "1\n"
          ]
        }
      ]
    },
    {
      "cell_type": "code",
      "source": [
        "quociente = 20 // 6\n",
        "resto = 20 % 6\n",
        "divisao_normal = 20/6\n",
        "print(quociente, resto, divisao_normal, sep=\"\\n\")"
      ],
      "metadata": {
        "id": "a6gSQTCykdr8",
        "colab": {
          "base_uri": "https://localhost:8080/"
        },
        "outputId": "346df657-0f61-433c-97a1-97022efcdc38"
      },
      "execution_count": null,
      "outputs": [
        {
          "output_type": "stream",
          "name": "stdout",
          "text": [
            "3\n",
            "2\n",
            "3.3333333333333335\n"
          ]
        }
      ]
    },
    {
      "cell_type": "markdown",
      "metadata": {
        "id": "Nh39_SevNKtR"
      },
      "source": [
        "### Com dados texto"
      ]
    },
    {
      "cell_type": "code",
      "metadata": {
        "id": "NSrdoQRvsLG-",
        "colab": {
          "base_uri": "https://localhost:8080/"
        },
        "outputId": "1c3c326d-df80-42f8-b775-8141bc45fce5"
      },
      "source": [
        "turno = \"noite\"\n",
        "resultado =  \"Boa \" + turno + \"!\" + \" Seja bem vindo.\" # o '+' é a concatenação de strings\n",
        "print(resultado)"
      ],
      "execution_count": null,
      "outputs": [
        {
          "output_type": "stream",
          "name": "stdout",
          "text": [
            "Boa noite! Seja bem vindo.\n"
          ]
        }
      ]
    },
    {
      "cell_type": "code",
      "metadata": {
        "id": "7AhtcKhTsz39",
        "colab": {
          "base_uri": "https://localhost:8080/",
          "height": 35
        },
        "outputId": "560e1218-7a86-4425-efd5-1f1471c2ddc5"
      },
      "source": [
        "'abacate ' * 5  # o '*' repete a string x vezes onde x é um número inteiro"
      ],
      "execution_count": null,
      "outputs": [
        {
          "output_type": "execute_result",
          "data": {
            "text/plain": [
              "''"
            ],
            "application/vnd.google.colaboratory.intrinsic+json": {
              "type": "string"
            }
          },
          "metadata": {},
          "execution_count": 42
        }
      ]
    },
    {
      "cell_type": "markdown",
      "metadata": {
        "id": "yIOzt-VHN8hi"
      },
      "source": [
        "### Com booleanos"
      ]
    },
    {
      "cell_type": "code",
      "metadata": {
        "id": "Cxw63HxZSCLl",
        "colab": {
          "base_uri": "https://localhost:8080/"
        },
        "outputId": "7aa78011-6a9d-47f7-cd25-9895d2ec8b5e"
      },
      "source": [
        "False * 10 # converte o True para 1 e o False para 0 e faz numericamente"
      ],
      "execution_count": null,
      "outputs": [
        {
          "output_type": "execute_result",
          "data": {
            "text/plain": [
              "0"
            ]
          },
          "metadata": {},
          "execution_count": 38
        }
      ]
    },
    {
      "cell_type": "code",
      "source": [
        "type(True)"
      ],
      "metadata": {
        "colab": {
          "base_uri": "https://localhost:8080/"
        },
        "id": "aJ--7BqrCmwj",
        "outputId": "a36c08bb-deb5-4da8-f8cf-0e2fdfa9f517"
      },
      "execution_count": null,
      "outputs": [
        {
          "output_type": "execute_result",
          "data": {
            "text/plain": [
              "bool"
            ]
          },
          "metadata": {},
          "execution_count": 46
        }
      ]
    },
    {
      "cell_type": "code",
      "source": [
        "type(True + False)"
      ],
      "metadata": {
        "id": "xJyLaC-3oqmd",
        "colab": {
          "base_uri": "https://localhost:8080/"
        },
        "outputId": "59e590c0-c5cb-4a96-d7d5-b13de2245a7c"
      },
      "execution_count": null,
      "outputs": [
        {
          "output_type": "execute_result",
          "data": {
            "text/plain": [
              "int"
            ]
          },
          "metadata": {},
          "execution_count": 45
        }
      ]
    },
    {
      "cell_type": "markdown",
      "source": [
        "## Conversão de tipos de Dados"
      ],
      "metadata": {
        "id": "-nxpBytNluVv"
      }
    },
    {
      "cell_type": "code",
      "source": [
        "\"3\" + \"2\""
      ],
      "metadata": {
        "colab": {
          "base_uri": "https://localhost:8080/",
          "height": 35
        },
        "id": "21oQeuenDRLq",
        "outputId": "453e9058-a12f-4ab3-f47e-f89163b37ce2"
      },
      "execution_count": null,
      "outputs": [
        {
          "output_type": "execute_result",
          "data": {
            "text/plain": [
              "'32'"
            ],
            "application/vnd.google.colaboratory.intrinsic+json": {
              "type": "string"
            }
          },
          "metadata": {},
          "execution_count": 59
        }
      ]
    },
    {
      "cell_type": "code",
      "source": [
        "30 + 2"
      ],
      "metadata": {
        "colab": {
          "base_uri": "https://localhost:8080/"
        },
        "id": "R-Fj_D7TFlDH",
        "outputId": "57692228-7dbc-436a-f1b8-79d4d05db8c8"
      },
      "execution_count": null,
      "outputs": [
        {
          "output_type": "execute_result",
          "data": {
            "text/plain": [
              "32"
            ]
          },
          "metadata": {},
          "execution_count": 60
        }
      ]
    },
    {
      "cell_type": "code",
      "metadata": {
        "id": "GIIi8k8pmjUB",
        "colab": {
          "base_uri": "https://localhost:8080/"
        },
        "outputId": "707b8093-f36f-48dd-d702-3399ad90759b"
      },
      "source": [
        "# conversão de tipos de Dados\n",
        "string = \"3\"\n",
        "string_convertido = int(string)\n",
        "string_convertido + 10"
      ],
      "execution_count": null,
      "outputs": [
        {
          "output_type": "execute_result",
          "data": {
            "text/plain": [
              "13"
            ]
          },
          "metadata": {},
          "execution_count": 63
        }
      ]
    },
    {
      "cell_type": "code",
      "source": [
        "float(\"2.6\") + 10"
      ],
      "metadata": {
        "colab": {
          "base_uri": "https://localhost:8080/"
        },
        "id": "-XYI7Y63FkXP",
        "outputId": "307de7b3-8ee0-4a09-971f-15ddef8ddef7"
      },
      "execution_count": null,
      "outputs": [
        {
          "output_type": "execute_result",
          "data": {
            "text/plain": [
              "12.6"
            ]
          },
          "metadata": {},
          "execution_count": 75
        }
      ]
    },
    {
      "cell_type": "code",
      "source": [
        "10 + float('10')"
      ],
      "metadata": {
        "id": "H7okRieXFCA_"
      },
      "execution_count": null,
      "outputs": []
    },
    {
      "cell_type": "code",
      "source": [
        "numero_favorito = 20"
      ],
      "metadata": {
        "id": "ie4Hk_7LXaFr"
      },
      "execution_count": null,
      "outputs": []
    },
    {
      "cell_type": "code",
      "source": [
        "\"ola, meu numero favorito é \" + str(numero_favorito)"
      ],
      "metadata": {
        "id": "1FQRf0FqqlmG",
        "colab": {
          "base_uri": "https://localhost:8080/",
          "height": 35
        },
        "outputId": "da3e81a7-0e67-4f1c-e250-ed8e06b9ff0e"
      },
      "execution_count": null,
      "outputs": [
        {
          "output_type": "execute_result",
          "data": {
            "text/plain": [
              "'ola, meu numero favorito é 20'"
            ],
            "application/vnd.google.colaboratory.intrinsic+json": {
              "type": "string"
            }
          },
          "metadata": {},
          "execution_count": 80
        }
      ]
    },
    {
      "cell_type": "markdown",
      "source": [
        "## Exercícios"
      ],
      "metadata": {
        "id": "M7_hinXrl3OT"
      }
    },
    {
      "cell_type": "code",
      "source": [
        "# transforma centimetros em polegadas\n",
        "\n"
      ],
      "metadata": {
        "id": "j0x23wN3jveT"
      },
      "execution_count": null,
      "outputs": []
    },
    {
      "cell_type": "code",
      "metadata": {
        "id": "ZXpfLxgOiwas"
      },
      "source": [
        "### Escreva uma sequência de operações em python que converta um valor em real para dólar -> 1 dol = 5.42 real\n",
        "\n"
      ],
      "execution_count": null,
      "outputs": []
    },
    {
      "cell_type": "code",
      "metadata": {
        "id": "I9npnYCX7qdj"
      },
      "source": [
        "## Escreva uma sequência de operações em python que converta um valor em dólar para real\n"
      ],
      "execution_count": null,
      "outputs": []
    },
    {
      "cell_type": "code",
      "metadata": {
        "id": "4TMp9tEvW30k"
      },
      "source": [
        "## Exercicio Conversão de Celsius para Fahrenheit\n",
        "##  C * 9/5  + 32 = F\n",
        "\n",
        "# C = 0;   F = 32\n",
        "# C = 100; F = 212\n",
        "# C = -10; F = 14"
      ],
      "execution_count": null,
      "outputs": []
    },
    {
      "cell_type": "markdown",
      "metadata": {
        "id": "Y19Z_OGlRlSE"
      },
      "source": [
        "\n",
        "# Desvios condicionais"
      ]
    },
    {
      "cell_type": "code",
      "metadata": {
        "id": "7DBV1KJYvjkB"
      },
      "source": [
        "# Operadores de Comparação\n",
        "\n",
        "print(f\"3 == 4: {3 == 4}\") # '==' representa igualdade\n",
        "print('\"texto\" == \"texto \":', \"texto\" == \"texto \")\n",
        "print('\"2.34\" == 2.34:', \"2.34\" == 2.34)\n",
        "variavel = 6\n",
        "print(\"2*variavel == 10:\", 2*variavel == 10)\n",
        "\n",
        "print(\"2 > 3:\", 2 > 3) # '>' verifica se o número a esquerda do símbolo é maior que o da direita\n",
        "print(\"2 > 2:\", 2 > 2)\n",
        "print(\"2 < 3:\", 2 < 3) # '<' verifica se o número a esquerda do símbolo é menor que o da direita\n",
        "print(\"2 < 2:\", 2 < 2)\n",
        "print(\"'zulu' < 'abacate':\", \"zulu\" < \"abacate\")\n",
        "\n",
        "print(\"2 >= 3:\", 2 >= 3) # '>=' verifica se o número a esquerda do símbolo é maior ou igual que o da direita\n",
        "print(\"2 >= 2:\", 2 >= 2)\n",
        "print(\"2 <= 3:\", 2 <= 3) # '<=' verifica se o número a esquerda do símbolo é menor ou igual que o da direita\n",
        "print(\"2 <= 2:\", 2 <= 2)\n",
        "print(\"'abacaxi' <= 'abacate':\", \"abacaxi\" <= \"abacate\")\n",
        "\n",
        "print(\"3 != 2:\", 3 != 2) # '!=' verifica se os números são diferentes\n",
        "print(\"2 != 2:\", 2 != 2) # '!=' verifica se os números são diferentes\n",
        "print('\"Texto\" != \"texto\":', \"Texto\" != \"texto\")"
      ],
      "execution_count": null,
      "outputs": []
    },
    {
      "cell_type": "markdown",
      "source": [
        "### Bloco `If`"
      ],
      "metadata": {
        "id": "-dsN9LeRS5kJ"
      }
    },
    {
      "cell_type": "code",
      "source": [
        "condicao = True\n",
        "\n",
        "print(\"começa o programa\")\n",
        "if (condicao)\n",
        "    print(\"Entrei no if!\")\n",
        "    print(\"outro comando do if\")\n",
        "print(\"Continua o programa\")\n"
      ],
      "metadata": {
        "id": "Fc7Utn2fiDGh"
      },
      "execution_count": null,
      "outputs": []
    },
    {
      "cell_type": "markdown",
      "source": [
        "### Uso do `Else`"
      ],
      "metadata": {
        "id": "zIqAIuqjTAwA"
      }
    },
    {
      "cell_type": "code",
      "source": [
        "valor_pix = float(input(\"valor\"))\n",
        "saldo_pessoa = float(input(\"valor\"))"
      ],
      "metadata": {
        "id": "bUctlFdrmSfE"
      },
      "execution_count": null,
      "outputs": []
    },
    {
      "cell_type": "code",
      "source": [
        "if valor_pix > saldo_pessoa:\n",
        "    print(\"você não possui saldo suficiente para essa operação!\")\n",
        "else:\n",
        "    print(\"Pix efetuado com sucesso!\")"
      ],
      "metadata": {
        "id": "zCPD5AtOmZZo"
      },
      "execution_count": null,
      "outputs": []
    },
    {
      "cell_type": "markdown",
      "source": [
        "### Desvio multicondicional"
      ],
      "metadata": {
        "id": "6Qqgwg2_TEy1"
      }
    },
    {
      "cell_type": "code",
      "source": [
        "media = 6"
      ],
      "metadata": {
        "id": "OFuZX7gkpFqx"
      },
      "execution_count": null,
      "outputs": []
    },
    {
      "cell_type": "code",
      "source": [
        "# Varios If's\n",
        "if 0 <= media < 3:\n",
        "  print(\"Reprovado\")\n",
        "if 3 <= media < 5:\n",
        "  print(\"Recuperação\")\n",
        "if 5 <= media < 10:\n",
        "  print(\"Aprovado\")\n",
        "if media == 10:\n",
        "  print(\"Aprovado com louvor\")"
      ],
      "metadata": {
        "id": "j1MHrpDgrCHH"
      },
      "execution_count": null,
      "outputs": []
    },
    {
      "cell_type": "code",
      "source": [
        "# If e Else aninhados\n",
        "if media >= 3:\n",
        "  if media >= 5:\n",
        "    if media == 10:\n",
        "      print(\"aprovado com louvor\")\n",
        "    else:\n",
        "      print(\"aprovado\")\n",
        "  else:\n",
        "    print(\"recuperação\")\n",
        "else:\n",
        "  print(\"Reprovado\")"
      ],
      "metadata": {
        "id": "leohjcZKuX7V"
      },
      "execution_count": null,
      "outputs": []
    },
    {
      "cell_type": "code",
      "source": [
        "if media == 10:\n",
        "  print(\"aprovado com louvor\")\n",
        "else:\n",
        "  if media >= 5:\n",
        "    print(\"aprovado\")\n",
        "  else:\n",
        "    if media >= 3:\n",
        "      print(\"recuperação\")\n",
        "    else:\n",
        "      print(\"reprovado\")\n"
      ],
      "metadata": {
        "id": "1VSZwqbUu7z1"
      },
      "execution_count": null,
      "outputs": []
    },
    {
      "cell_type": "code",
      "source": [
        "# Elif\n",
        "if media == 10:\n",
        "  print(\"aprovado com louvor\")\n",
        "elif media >= 5:\n",
        "  print(\"aprovado\")\n",
        "elif media >= 3:\n",
        "  print(\"recuperação\")\n",
        "else:\n",
        "  print(\"Reprovado\")"
      ],
      "metadata": {
        "id": "vyyGHkLfzY0C"
      },
      "execution_count": null,
      "outputs": []
    },
    {
      "cell_type": "code",
      "metadata": {
        "id": "Aw2iw7Kdyhyq"
      },
      "source": [
        "# Equação de 2 Grau\n",
        "\n",
        "# a*x² + b*x + c = 0\n",
        "# x² - x + 1 = 0 -> delta = -3 < 0\n",
        "# x² +2x + 1 = 0 -> delta = 0\n",
        "# x^2 - 4x = 0 - > delta = 16 > 0\n",
        "\n",
        "\n"
      ],
      "execution_count": null,
      "outputs": []
    },
    {
      "cell_type": "code",
      "metadata": {
        "id": "yhmC1YFR1ZOf"
      },
      "source": [
        "##  Carro flex\n",
        "\n",
        "## se o valor etanol for maior que 70% do valor do valor gasolina -> gasolina\n",
        "## se o valor do etanol for menor ou igual a 70% do valor gasolina -> etanol\n",
        "\n",
        "\n",
        "#gasolina, etanol = 4, 1 # etanol\n",
        "#gasolina, etanol = 4, 3 # gasolina\n",
        "#gasolina, etanol = 10, 7 # etanol\n",
        "#gasolina, etanol = 10, 7.0000000001 #gasolina"
      ],
      "execution_count": null,
      "outputs": []
    },
    {
      "cell_type": "markdown",
      "metadata": {
        "id": "zGNPUq9q3AYn"
      },
      "source": [
        "### Exercicio\n",
        "dada a tabela o IR, faça um programa que recebe o salário de um trabalhador e devolve o valor do imposto. Utilizando a regra de imposto efetiva até 2021\n",
        "\n",
        "|Base de cálculo (R$)\t|Alíquota (%)|\n",
        "--------------------- |-------------|\n",
        "|Abaixo de 1.903,98    | 0%  |\n",
        "|De 1.903,99 até 2.826,65|\t7,5%\t|\n",
        "|De 2.826,66 até 3.751,05|\t15%\t|\n",
        "|De 3.751,06 até 4.664,68|\t22,5%\t|\n",
        "|Acima de 4.664,69|\t27,5%|"
      ]
    },
    {
      "cell_type": "code",
      "metadata": {
        "id": "HKHvlmmN37VH"
      },
      "source": [],
      "execution_count": null,
      "outputs": []
    },
    {
      "cell_type": "markdown",
      "metadata": {
        "id": "t_3jPIRCRuLl"
      },
      "source": [
        "# Laços de repetição"
      ]
    },
    {
      "cell_type": "markdown",
      "metadata": {
        "id": "e7KoKb_pR0Qa"
      },
      "source": [
        "## While (enquanto)"
      ]
    },
    {
      "cell_type": "code",
      "metadata": {
        "id": "4BsdnkpXwlP4"
      },
      "source": [
        "numero = 1 # inicialização\n",
        "while numero <= 10 # condição de repetição\n",
        "  print(numero)\n",
        "  numero = numero + 1 # atualização da da variável\n",
        "print(\"acabou\")\n"
      ],
      "execution_count": null,
      "outputs": []
    },
    {
      "cell_type": "code",
      "metadata": {
        "id": "RD5_x2Zk0Zm7"
      },
      "source": [
        "# Faça um programa em python que lê palavras digitadas pelo usuário até que ele digite \"sair\".\n",
        "# Depois informe quantas palavras ela digitou\n"
      ],
      "execution_count": null,
      "outputs": []
    },
    {
      "cell_type": "code",
      "metadata": {
        "id": "JOHNNi2e1YMK"
      },
      "source": [
        "# fazer um código python que calcula x^y\n",
        "\n"
      ],
      "execution_count": null,
      "outputs": []
    },
    {
      "cell_type": "code",
      "metadata": {
        "id": "eUk0gZqw3m6-"
      },
      "source": [
        "## Le números do usuário até ele digitar o numero -1 (ok)\n",
        "## calcula a média dos números digitados\n"
      ],
      "execution_count": null,
      "outputs": []
    },
    {
      "cell_type": "code",
      "metadata": {
        "id": "dnV6i9zQsqGV"
      },
      "source": [
        "## Calcule o fatorial de um número\n"
      ],
      "execution_count": null,
      "outputs": []
    },
    {
      "cell_type": "markdown",
      "metadata": {
        "id": "Z0X8VVoXOBdl"
      },
      "source": [
        "# Coleções de dados"
      ]
    },
    {
      "cell_type": "markdown",
      "metadata": {
        "id": "UaUM36SEOLB9"
      },
      "source": [
        "### Listas"
      ]
    },
    {
      "cell_type": "code",
      "metadata": {
        "id": "E9iNXUgHOEBt"
      },
      "source": [
        "lista = [\"ola\", \"alo\", 1, 1.34, True]"
      ],
      "execution_count": null,
      "outputs": []
    },
    {
      "cell_type": "code",
      "source": [
        "print(lista)"
      ],
      "metadata": {
        "id": "Se4rDpfbEiMS"
      },
      "execution_count": null,
      "outputs": []
    },
    {
      "cell_type": "code",
      "metadata": {
        "id": "JT_mvQMqfCuG"
      },
      "source": [
        "# acessar um elemento da lista\n",
        "pos = 5\n",
        "lista[pos]# em uma lista com N elementos os indices vão de 0 até N-1"
      ],
      "execution_count": null,
      "outputs": []
    },
    {
      "cell_type": "code",
      "source": [
        "lista[1] = \"novo valor\"\n",
        "print(lista)"
      ],
      "metadata": {
        "id": "fYkvcCvuLtfE"
      },
      "execution_count": null,
      "outputs": []
    },
    {
      "cell_type": "code",
      "metadata": {
        "id": "Di_85DZgN2d_"
      },
      "source": [
        "len(lista) # devolve o numero de elementos em uma coleção"
      ],
      "execution_count": null,
      "outputs": []
    },
    {
      "cell_type": "code",
      "metadata": {
        "id": "1ndUtTowh2mh"
      },
      "source": [
        "lista.append(\"novo elemento\")\n",
        "print(lista)"
      ],
      "execution_count": null,
      "outputs": []
    },
    {
      "cell_type": "code",
      "metadata": {
        "id": "r5CR8Nf8jZ1T"
      },
      "source": [
        "lista.insert(0, 'inicio')\n",
        "print(lista)"
      ],
      "execution_count": null,
      "outputs": []
    },
    {
      "cell_type": "code",
      "source": [
        "lista.index(\"novo elemento\")"
      ],
      "metadata": {
        "id": "GVlBT5IWHrC1"
      },
      "execution_count": null,
      "outputs": []
    },
    {
      "cell_type": "code",
      "metadata": {
        "id": "h__sJQrikHRK"
      },
      "source": [
        "deletado = lista.pop(1)\n",
        "print(lista)\n",
        "print(deletado)"
      ],
      "execution_count": null,
      "outputs": []
    },
    {
      "cell_type": "code",
      "metadata": {
        "id": "Q4Nie8mt7zt2"
      },
      "source": [
        "del(lista[3])\n",
        "print(lista)"
      ],
      "execution_count": null,
      "outputs": []
    },
    {
      "cell_type": "code",
      "metadata": {
        "id": "mEE7KfNUk0p-"
      },
      "source": [
        "lista2 = []\n",
        "print(lista2)"
      ],
      "execution_count": null,
      "outputs": []
    },
    {
      "cell_type": "code",
      "metadata": {
        "id": "dcaEu2qFTbIi"
      },
      "source": [
        "## Modifique o algoritmo que calculava a média dos números\n",
        "## para encontrar a mediana dos valores\n",
        "## dica: Use listas par guardar todos os valores informados\n",
        "\n",
        "# como calcular a mediana\n",
        "# ordenamos os valores do menos para o maior\n",
        "# se tem núúmeo impar de valores a mediana é o valor do meio\n",
        "#[ 5 , 1,2] -> [1,2,5] -> 2\n",
        "# Se tem um numero par de valores, a mediana é a media dos 2 centrais\n",
        "#[ 5 , 1, 4,2] -> [1,2,4,5]- > 3 = (2+4)/2"
      ],
      "execution_count": null,
      "outputs": []
    },
    {
      "cell_type": "markdown",
      "source": [],
      "metadata": {
        "id": "nZcsNBMJUcHC"
      }
    },
    {
      "cell_type": "markdown",
      "metadata": {
        "id": "Vs5AG3tpR5Tg"
      },
      "source": [
        "\n",
        "### For (para cada)"
      ]
    },
    {
      "cell_type": "code",
      "source": [
        "lista = [1,4,5,6,7]"
      ],
      "metadata": {
        "id": "j9S1F6kyp0Uv"
      },
      "execution_count": null,
      "outputs": []
    },
    {
      "cell_type": "code",
      "source": [
        "indice = 0\n",
        "while indice < len(lista):\n",
        "  print(lista[indice])\n",
        "  indice = indice + 1"
      ],
      "metadata": {
        "id": "mQppvb16PwmB"
      },
      "execution_count": null,
      "outputs": []
    },
    {
      "cell_type": "code",
      "metadata": {
        "id": "TeVSaVE9MpZz"
      },
      "source": [
        "for num in lista:\n",
        "  print(num)\n",
        "print(\"acabou\")"
      ],
      "execution_count": null,
      "outputs": []
    },
    {
      "cell_type": "markdown",
      "metadata": {
        "id": "-NL7Brd7OXQK"
      },
      "source": [
        "## Dicionários"
      ]
    },
    {
      "cell_type": "code",
      "metadata": {
        "id": "3KvZ1YQWhQ22"
      },
      "source": [
        "dicionario = {'nome': 'Guilherme', 'matricula': 123456, 'cpf': '36791837802'}"
      ],
      "execution_count": null,
      "outputs": []
    },
    {
      "cell_type": "code",
      "metadata": {
        "id": "sgDJTsc5hICM"
      },
      "source": [
        "dicionario['altura'] = 1.8"
      ],
      "execution_count": null,
      "outputs": []
    },
    {
      "cell_type": "code",
      "metadata": {
        "id": "cesWmaJVMTWO"
      },
      "source": [
        "len(dicionario)"
      ],
      "execution_count": null,
      "outputs": []
    },
    {
      "cell_type": "code",
      "metadata": {
        "id": "r4EImW7MSHBz"
      },
      "source": [
        "dicionario"
      ],
      "execution_count": null,
      "outputs": []
    },
    {
      "cell_type": "code",
      "metadata": {
        "id": "jYfLoqQ7wJK1"
      },
      "source": [
        "dicionario['rg']"
      ],
      "execution_count": null,
      "outputs": []
    },
    {
      "cell_type": "code",
      "metadata": {
        "id": "dwvyXg7JwVmN"
      },
      "source": [
        "dicionario['notas'] = {'matematica': [5,6.5,7], 'historia': [1,2]}"
      ],
      "execution_count": null,
      "outputs": []
    },
    {
      "cell_type": "code",
      "metadata": {
        "id": "-t4urkKQxAdC"
      },
      "source": [
        "dicionario"
      ],
      "execution_count": null,
      "outputs": []
    },
    {
      "cell_type": "code",
      "metadata": {
        "id": "ezhBQbhbx0X9"
      },
      "source": [
        "dicionario['notas']['historia'][1]"
      ],
      "execution_count": null,
      "outputs": []
    },
    {
      "cell_type": "code",
      "metadata": {
        "id": "dbjrEtRVnuoC"
      },
      "source": [
        "alunos = [{'nome': 'Guilherme', 'notas': {'historia': [1, 3, 8] }},{'aluno': 'Gabriel'} ,{'aluno': 'Bianca'}]\n"
      ],
      "execution_count": null,
      "outputs": []
    },
    {
      "cell_type": "code",
      "metadata": {
        "id": "uFsDaKMRx9Vo"
      },
      "source": [
        "if 'ingles' in alunos[0]['notas']:\n",
        "  print(\"ja tem a nota\")"
      ],
      "execution_count": null,
      "outputs": []
    },
    {
      "cell_type": "code",
      "metadata": {
        "id": "ohVSbezpwa1i"
      },
      "source": [
        "print(dicionario)"
      ],
      "execution_count": null,
      "outputs": []
    },
    {
      "cell_type": "code",
      "metadata": {
        "id": "qSiLNr2lyHjU"
      },
      "source": [
        "for chave, valor in dicionario.items():\n",
        "  print(chave, valor)"
      ],
      "execution_count": null,
      "outputs": []
    },
    {
      "cell_type": "markdown",
      "metadata": {
        "id": "DKE8lbKVT670"
      },
      "source": [
        "## Tuplas"
      ]
    },
    {
      "cell_type": "code",
      "metadata": {
        "id": "p8xl5azdT9sy"
      },
      "source": [
        "t = (1,2, 3)\n"
      ],
      "execution_count": null,
      "outputs": []
    },
    {
      "cell_type": "code",
      "metadata": {
        "id": "h1Q4qUbu1w-c"
      },
      "source": [
        "t[0] = 10"
      ],
      "execution_count": null,
      "outputs": []
    },
    {
      "cell_type": "markdown",
      "metadata": {
        "id": "lGl4nOxCSHgX"
      },
      "source": [
        "# Funções"
      ]
    },
    {
      "cell_type": "code",
      "metadata": {
        "id": "5lsvSsB-2wV4"
      },
      "source": [
        "def diz_ola(nome):\n",
        "  print('Olá')\n",
        "  print('tudo bem?')\n",
        "  print(nome)"
      ],
      "execution_count": null,
      "outputs": []
    }
  ]
}